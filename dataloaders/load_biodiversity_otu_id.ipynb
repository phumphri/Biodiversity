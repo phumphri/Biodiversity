{
 "cells": [
  {
   "cell_type": "code",
   "execution_count": 1,
   "metadata": {
    "collapsed": true
   },
   "outputs": [],
   "source": [
    "import psycopg2\n",
    "import pandas as pd\n",
    "import numpy as np\n",
    "import math\n",
    "import socket\n",
    "import os\n",
    "import json"
   ]
  },
  {
   "cell_type": "code",
   "execution_count": 2,
   "metadata": {
    "collapsed": true
   },
   "outputs": [],
   "source": [
    "sql = \"\"\"\n",
    "    insert into belly_button.biodiversity_otu_id (otu_id, lowest_taxonomic_unit_found) values(%s, %s)\n",
    "    ON CONFLICT DO NOTHING ;\n",
    "\"\"\""
   ]
  },
  {
   "cell_type": "code",
   "execution_count": 3,
   "metadata": {},
   "outputs": [
    {
     "name": "stdout",
     "output_type": "stream",
     "text": [
      "socket.hostname(): DESKTOP-S08TN4O\n",
      "Connection okay.\n"
     ]
    }
   ],
   "source": [
    "hostname = socket.gethostname()\n",
    "print(\"socket.hostname():\", hostname)\n",
    "try:\n",
    "    if (hostname == 'XPS'):   \n",
    "        conn = psycopg2.connect(os.environ['LOCAL_POSTGRES'])\n",
    "        print('Connection okay.')\n",
    "    elif (hostname == 'DESKTOP-S08TN4O'):   \n",
    "#         conn = psycopg2.connect('dbname=postgres user=postgres password=welcome')\n",
    "        conn = psycopg2.connect(os.environ['LOCAL_POSTGRES'])\n",
    "        print('Connection okay.')\n",
    "    else:\n",
    "        conn = psycopg2.connect(os.environ['AWS_POSTGRES'])\n",
    "        print('Connection okay.')\n",
    "except Exception as e:\n",
    "    print('Connection failed:', e)"
   ]
  },
  {
   "cell_type": "code",
   "execution_count": 4,
   "metadata": {},
   "outputs": [
    {
     "name": "stdout",
     "output_type": "stream",
     "text": [
      "Cursor okay.\n"
     ]
    }
   ],
   "source": [
    "try:\n",
    "    cur = conn.cursor()\n",
    "    print('Cursor okay.')\n",
    "except Exception as e:\n",
    "    print('Cursor failed:', e)"
   ]
  },
  {
   "cell_type": "code",
   "execution_count": 5,
   "metadata": {},
   "outputs": [
    {
     "data": {
      "text/html": [
       "<div>\n",
       "<style>\n",
       "    .dataframe thead tr:only-child th {\n",
       "        text-align: right;\n",
       "    }\n",
       "\n",
       "    .dataframe thead th {\n",
       "        text-align: left;\n",
       "    }\n",
       "\n",
       "    .dataframe tbody tr th {\n",
       "        vertical-align: top;\n",
       "    }\n",
       "</style>\n",
       "<table border=\"1\" class=\"dataframe\">\n",
       "  <thead>\n",
       "    <tr style=\"text-align: right;\">\n",
       "      <th></th>\n",
       "      <th>otu_id</th>\n",
       "      <th>lowest_taxonomic_unit_found</th>\n",
       "    </tr>\n",
       "  </thead>\n",
       "  <tbody>\n",
       "    <tr>\n",
       "      <th>0</th>\n",
       "      <td>1</td>\n",
       "      <td>Archaea;Euryarchaeota;Halobacteria;Halobacteri...</td>\n",
       "    </tr>\n",
       "    <tr>\n",
       "      <th>1</th>\n",
       "      <td>2</td>\n",
       "      <td>Archaea;Euryarchaeota;Halobacteria;Halobacteri...</td>\n",
       "    </tr>\n",
       "    <tr>\n",
       "      <th>2</th>\n",
       "      <td>3</td>\n",
       "      <td>Archaea;Euryarchaeota;Halobacteria;Halobacteri...</td>\n",
       "    </tr>\n",
       "    <tr>\n",
       "      <th>3</th>\n",
       "      <td>4</td>\n",
       "      <td>Archaea;Euryarchaeota;Methanobacteria;Methanob...</td>\n",
       "    </tr>\n",
       "    <tr>\n",
       "      <th>4</th>\n",
       "      <td>5</td>\n",
       "      <td>Archaea;Euryarchaeota;Methanobacteria;Methanob...</td>\n",
       "    </tr>\n",
       "  </tbody>\n",
       "</table>\n",
       "</div>"
      ],
      "text/plain": [
       "   otu_id                        lowest_taxonomic_unit_found\n",
       "0       1  Archaea;Euryarchaeota;Halobacteria;Halobacteri...\n",
       "1       2  Archaea;Euryarchaeota;Halobacteria;Halobacteri...\n",
       "2       3  Archaea;Euryarchaeota;Halobacteria;Halobacteri...\n",
       "3       4  Archaea;Euryarchaeota;Methanobacteria;Methanob...\n",
       "4       5  Archaea;Euryarchaeota;Methanobacteria;Methanob..."
      ]
     },
     "execution_count": 5,
     "metadata": {},
     "output_type": "execute_result"
    }
   ],
   "source": [
    "df = pd.read_csv('instructions/Datasets/belly_button_biodiversity_otu_id.csv')\n",
    "df.head()"
   ]
  },
  {
   "cell_type": "code",
   "execution_count": 6,
   "metadata": {},
   "outputs": [
    {
     "name": "stdout",
     "output_type": "stream",
     "text": [
      "index: 0\n",
      "index: 100\n",
      "index: 200\n",
      "index: 300\n",
      "index: 400\n",
      "index: 500\n",
      "index: 600\n",
      "index: 700\n",
      "index: 800\n",
      "index: 900\n",
      "index: 1000\n",
      "index: 1100\n",
      "index: 1200\n",
      "index: 1300\n",
      "index: 1400\n",
      "index: 1500\n",
      "index: 1600\n",
      "index: 1700\n",
      "index: 1800\n",
      "index: 1900\n",
      "index: 2000\n",
      "index: 2100\n",
      "index: 2200\n",
      "index: 2300\n",
      "index: 2400\n",
      "index: 2500\n",
      "index: 2600\n",
      "index: 2700\n",
      "index: 2800\n",
      "index: 2900\n",
      "index: 3000\n",
      "index: 3100\n",
      "index: 3200\n",
      "index: 3300\n",
      "index: 3400\n",
      "index: 3500\n",
      "index: 3600\n",
      "SQL okay.\n"
     ]
    }
   ],
   "source": [
    "\n",
    "list_otu_id = list(df.otu_id)\n",
    "\n",
    "list_lowest_taxonomic_unit_found = list(df.lowest_taxonomic_unit_found)\n",
    "\n",
    "for index, otu_id in enumerate(list_otu_id):\n",
    "    \n",
    "#     print(index, otu_id, list_lowest_taxonomic_unit_found[index])\n",
    "    \n",
    "    try:\n",
    "        cur.execute(sql, (int(otu_id), list_lowest_taxonomic_unit_found[index]))\n",
    "        if (index%100 == 0):\n",
    "            print(\"index:\", str(index))\n",
    "    except Exception as e:\n",
    "        print('SQL failed:', e)\n",
    "    \n",
    "print('SQL okay.')"
   ]
  },
  {
   "cell_type": "code",
   "execution_count": 7,
   "metadata": {},
   "outputs": [
    {
     "name": "stdout",
     "output_type": "stream",
     "text": [
      "Commit okay.\n"
     ]
    }
   ],
   "source": [
    "try:\n",
    "    conn.commit()\n",
    "    print('Commit okay.')\n",
    "except Exception as e:\n",
    "    print('Commit failed:', e)"
   ]
  },
  {
   "cell_type": "code",
   "execution_count": 8,
   "metadata": {
    "collapsed": true
   },
   "outputs": [],
   "source": [
    "# rows = cur.fetchall()"
   ]
  },
  {
   "cell_type": "code",
   "execution_count": 9,
   "metadata": {
    "collapsed": true
   },
   "outputs": [],
   "source": [
    "# print(\"\\nShow me the databases:\\n\")"
   ]
  },
  {
   "cell_type": "code",
   "execution_count": 10,
   "metadata": {
    "collapsed": true
   },
   "outputs": [],
   "source": [
    "# for row in rows:\n",
    "#     print(\"    \", row[0])"
   ]
  },
  {
   "cell_type": "code",
   "execution_count": 11,
   "metadata": {},
   "outputs": [
    {
     "name": "stdout",
     "output_type": "stream",
     "text": [
      "Close okay.\n"
     ]
    }
   ],
   "source": [
    "try:\n",
    "    conn.close()\n",
    "    print('Close okay.')\n",
    "except Exception as e:\n",
    "    print('Close failed:', e)"
   ]
  }
 ],
 "metadata": {
  "kernelspec": {
   "display_name": "Python 3",
   "language": "python",
   "name": "python3"
  },
  "language_info": {
   "codemirror_mode": {
    "name": "ipython",
    "version": 3
   },
   "file_extension": ".py",
   "mimetype": "text/x-python",
   "name": "python",
   "nbconvert_exporter": "python",
   "pygments_lexer": "ipython3",
   "version": "3.6.3"
  }
 },
 "nbformat": 4,
 "nbformat_minor": 2
}
