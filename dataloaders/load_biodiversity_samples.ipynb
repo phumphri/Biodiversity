{
 "cells": [
  {
   "cell_type": "code",
   "execution_count": 1,
   "metadata": {
    "collapsed": true
   },
   "outputs": [],
   "source": [
    "import psycopg2\n",
    "import pandas as pd\n",
    "import numpy as np\n",
    "import math\n",
    "import socket\n",
    "import os\n",
    "import json"
   ]
  },
  {
   "cell_type": "code",
   "execution_count": 2,
   "metadata": {
    "collapsed": true
   },
   "outputs": [],
   "source": [
    "df = pd.read_csv('instructions/Datasets/belly_button_biodiversity_samples.csv')"
   ]
  },
  {
   "cell_type": "code",
   "execution_count": 3,
   "metadata": {
    "collapsed": true
   },
   "outputs": [],
   "source": [
    "df2 = df.fillna(0)"
   ]
  },
  {
   "cell_type": "code",
   "execution_count": 4,
   "metadata": {
    "collapsed": true
   },
   "outputs": [],
   "source": [
    "df3 = df2.astype(int)"
   ]
  },
  {
   "cell_type": "code",
   "execution_count": 5,
   "metadata": {
    "collapsed": true
   },
   "outputs": [],
   "source": [
    "sql = \"\"\"\n",
    "    insert into belly_button.biodiversity_samples (otu_id, sample) values(%s, %s)\n",
    "    ON CONFLICT DO NOTHING ;\n",
    "\"\"\""
   ]
  },
  {
   "cell_type": "code",
   "execution_count": 6,
   "metadata": {},
   "outputs": [
    {
     "name": "stdout",
     "output_type": "stream",
     "text": [
      "socket.hostname(): DESKTOP-S08TN4O\n",
      "Connection okay.\n"
     ]
    }
   ],
   "source": [
    "hostname = socket.gethostname()\n",
    "print(\"socket.hostname():\", hostname)\n",
    "try:\n",
    "    if (hostname == 'XPS'):   \n",
    "        conn = psycopg2.connect(os.environ['LOCAL_POSTGRES'])\n",
    "        print('Connection okay.')\n",
    "    elif (hostname == 'DESKTOP-S08TN4O'):   \n",
    "#         conn = psycopg2.connect('dbname=postgres user=postgres password=welcome')\n",
    "        conn = psycopg2.connect(os.environ['LOCAL_POSTGRES'])\n",
    "        print('Connection okay.')\n",
    "    else:\n",
    "        conn = psycopg2.connect(os.environ['AWS_POSTGRES'])\n",
    "        print('Connection okay.')\n",
    "except Exception as e:\n",
    "    print('Connection failed:', e)"
   ]
  },
  {
   "cell_type": "code",
   "execution_count": 7,
   "metadata": {},
   "outputs": [
    {
     "name": "stdout",
     "output_type": "stream",
     "text": [
      "Cursor okay.\n"
     ]
    }
   ],
   "source": [
    "try:\n",
    "    cur = conn.cursor()\n",
    "    print('Cursor okay.')\n",
    "except Exception as e:\n",
    "    print('Cursor failed:', e)"
   ]
  },
  {
   "cell_type": "code",
   "execution_count": 8,
   "metadata": {},
   "outputs": [
    {
     "name": "stdout",
     "output_type": "stream",
     "text": [
      "index: 0\n",
      "index: 100\n",
      "index: 200\n",
      "index: 300\n",
      "index: 400\n",
      "index: 500\n",
      "index: 600\n",
      "index: 700\n",
      "index: 800\n",
      "index: 900\n",
      "index: 1000\n",
      "index: 1100\n",
      "index: 1200\n",
      "index: 1300\n",
      "index: 1400\n",
      "index: 1500\n",
      "index: 1600\n",
      "index: 1700\n",
      "index: 1800\n",
      "index: 1900\n",
      "index: 2000\n",
      "index: 2100\n",
      "index: 2200\n",
      "index: 2300\n",
      "index: 2400\n",
      "index: 2500\n",
      "index: 2600\n",
      "index: 2700\n",
      "index: 2800\n",
      "index: 2900\n",
      "index: 3000\n",
      "index: 3100\n",
      "index: 3200\n",
      "index: 3300\n",
      "index: 3400\n",
      "index: 3500\n",
      "index: 3600\n",
      "SQL okay.\n"
     ]
    }
   ],
   "source": [
    "\n",
    "for index, row in df3.iterrows():\n",
    "    row_list = list(row)\n",
    "    otu_id = int(row_list[0])\n",
    "    samples_32 = row_list[1:]\n",
    "    samples = []\n",
    "    for sample in samples_32:\n",
    "        samples.append(int(sample))\n",
    "        \n",
    "    \n",
    "    if (index%100 == 0):\n",
    "        print('index:', index)\n",
    "    \n",
    "    try:\n",
    "        cur.execute(sql, (otu_id, samples))\n",
    "    except Exception as e:\n",
    "        print('otu_id:', otu_id)\n",
    "        print('samples:', samples)\n",
    "        print('row_list:', row_list)\n",
    "        print('SQL failed:', e)\n",
    "        conn.close()\n",
    "        break\n",
    "    \n",
    "print('SQL okay.')"
   ]
  },
  {
   "cell_type": "code",
   "execution_count": 9,
   "metadata": {},
   "outputs": [
    {
     "name": "stdout",
     "output_type": "stream",
     "text": [
      "Commit okay.\n"
     ]
    }
   ],
   "source": [
    "try:\n",
    "    conn.commit()\n",
    "    print('Commit okay.')\n",
    "except Exception as e:\n",
    "    print('Commit failed:', e)"
   ]
  },
  {
   "cell_type": "code",
   "execution_count": 10,
   "metadata": {},
   "outputs": [
    {
     "name": "stdout",
     "output_type": "stream",
     "text": [
      "Close okay.\n"
     ]
    }
   ],
   "source": [
    "try:\n",
    "    conn.close()\n",
    "    print('Close okay.')\n",
    "except Exception as e:\n",
    "    print('Close failed:', e)"
   ]
  }
 ],
 "metadata": {
  "kernelspec": {
   "display_name": "Python 3",
   "language": "python",
   "name": "python3"
  },
  "language_info": {
   "codemirror_mode": {
    "name": "ipython",
    "version": 3
   },
   "file_extension": ".py",
   "mimetype": "text/x-python",
   "name": "python",
   "nbconvert_exporter": "python",
   "pygments_lexer": "ipython3",
   "version": "3.6.3"
  }
 },
 "nbformat": 4,
 "nbformat_minor": 2
}
